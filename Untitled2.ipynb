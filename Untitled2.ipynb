{
  "nbformat": 4,
  "nbformat_minor": 0,
  "metadata": {
    "colab": {
      "provenance": [],
      "authorship_tag": "ABX9TyNoaYDFqYLJ2Ucch+qX/KaE",
      "include_colab_link": true
    },
    "kernelspec": {
      "name": "python3",
      "display_name": "Python 3"
    },
    "language_info": {
      "name": "python"
    }
  },
  "cells": [
    {
      "cell_type": "markdown",
      "metadata": {
        "id": "view-in-github",
        "colab_type": "text"
      },
      "source": [
        "<a href=\"https://colab.research.google.com/github/hek1412/test/blob/master/Untitled2.ipynb\" target=\"_parent\"><img src=\"https://colab.research.google.com/assets/colab-badge.svg\" alt=\"Open In Colab\"/></a>"
      ]
    },
    {
      "cell_type": "code",
      "execution_count": null,
      "metadata": {
        "colab": {
          "base_uri": "https://localhost:8080/"
        },
        "id": "RWNdzLlCTmwv",
        "outputId": "f72d689b-4555-4a24-c14c-e29eee87fe83"
      },
      "outputs": [
        {
          "output_type": "stream",
          "name": "stdout",
          "text": [
            "Collecting pyspark\n",
            "  Downloading pyspark-3.5.3.tar.gz (317.3 MB)\n",
            "\u001b[2K     \u001b[90m━━━━━━━━━━━━━━━━━━━━━━━━━━━━━━━━━━━━━━━━\u001b[0m \u001b[32m317.3/317.3 MB\u001b[0m \u001b[31m3.9 MB/s\u001b[0m eta \u001b[36m0:00:00\u001b[0m\n",
            "\u001b[?25h  Preparing metadata (setup.py) ... \u001b[?25l\u001b[?25hdone\n",
            "Requirement already satisfied: py4j==0.10.9.7 in /usr/local/lib/python3.10/dist-packages (from pyspark) (0.10.9.7)\n",
            "Building wheels for collected packages: pyspark\n",
            "  Building wheel for pyspark (setup.py) ... \u001b[?25l\u001b[?25hdone\n",
            "  Created wheel for pyspark: filename=pyspark-3.5.3-py2.py3-none-any.whl size=317840625 sha256=b2d02d78c8a013d61d7f737e57261277b69e8aa90248ad363479d43a35e1ec95\n",
            "  Stored in directory: /root/.cache/pip/wheels/1b/3a/92/28b93e2fbfdbb07509ca4d6f50c5e407f48dce4ddbda69a4ab\n",
            "Successfully built pyspark\n",
            "Installing collected packages: pyspark\n",
            "Successfully installed pyspark-3.5.3\n"
          ]
        }
      ],
      "source": [
        "pip install pyspark"
      ]
    },
    {
      "cell_type": "code",
      "source": [
        "from pyspark.sql import SparkSession\n",
        "from pyspark.sql.types import IntegerType, DoubleType, StringType, StructType, StructField\n",
        "from datetime import datetime, timedelta\n",
        "import random\n",
        "\n",
        "spark = SparkSession.builder.appName(\"data generation\").getOrCreate()\n",
        "\n",
        "num = 1000\n",
        "product = [\"computer\", \"monitor\", \"laptop\", \"mouse\", \"keyboard\"]\n",
        "start_date = datetime(2024, 1, 1).date()\n",
        "end_date = datetime(2024, 9, 30).date()\n",
        "\n",
        "def random_date(start_date, end_date):\n",
        "    delta = end_date - start_date\n",
        "    random_days = random.randint(0, delta.days)\n",
        "    return start_date + timedelta(days=random_days)\n",
        "\n",
        "schema = StructType([\n",
        "    StructField(\"Дата\", StringType(), True),\n",
        "    StructField(\"UserID\", IntegerType(), True),\n",
        "    StructField(\"Продукт\", StringType(), True),\n",
        "    StructField(\"Количество\", IntegerType(), True),\n",
        "    StructField(\"Цена\", DoubleType(), True),\n",
        "])\n",
        "\n",
        "def generate_row():\n",
        "    date = random_date(start_date, end_date).strftime(\"%Y-%m-%d\")\n",
        "    user_id = random.randint(1, 1000)\n",
        "    random_product = random.choice(product)\n",
        "    quantity = random.randint(1, 1000)\n",
        "    price = round(random.uniform(1.0, 100000.0), 1)\n",
        "    return (date, user_id, random_product, quantity, price)\n",
        "\n",
        "data = [generate_row() for _ in range(num)]\n",
        "\n",
        "df = spark.createDataFrame(data, schema)\n",
        "\n",
        "df.coalesce(1).write.csv(\"data generation.csv\", header=True, mode='overwrite')\n",
        "\n",
        "spark.stop()"
      ],
      "metadata": {
        "id": "WpiwxqnbToM7"
      },
      "execution_count": 39,
      "outputs": []
    }
  ]
}